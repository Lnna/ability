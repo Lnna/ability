{
 "cells": [
  {
   "cell_type": "code",
   "execution_count": null,
   "metadata": {
    "collapsed": true
   },
   "outputs": [
    {
     "name": "stdout",
     "output_type": "stream",
     "text": [
      "INFO:tensorflow:Summary name sum_output_over_time  is illegal; using sum_output_over_time_ instead.\n"
     ]
    },
    {
     "name": "stdout",
     "output_type": "stream",
     "text": [
      "INFO:tensorflow:Summary name output_over_time  is illegal; using output_over_time_ instead.\n"
     ]
    }
   ],
   "source": [
    "import os\n",
    "import tensorflow as tf\n",
    "\n",
    "graph=tf.Graph()\n",
    "\n",
    "\n",
    "with graph.as_default():\n",
    "    #name scope 使得操作更清晰，在tensorboard也更清晰\n",
    "    with tf.name_scope(\"variables\"):\n",
    "        global_step=tf.Variable(0,trainable=False,dtype=tf.int32,name='global_step')\n",
    "        total_output=tf.Variable(0.0,trainable=False,dtype=tf.float32,name=\"global_output\")\n",
    "    with tf.name_scope(\"transformation\"):\n",
    "        with tf.name_scope(\"inputs\"):\n",
    "            a=tf.placeholder(dtype=tf.float32,shape=[None],name=\"a_inputs\")\n",
    "        with tf.name_scope(\"intermediate\"):\n",
    "            b=tf.reduce_prod(a,name=\"prod_b\")\n",
    "            c=tf.reduce_sum(a,name=\"sum_c\")\n",
    "        with tf.name_scope(\"outputs\"):\n",
    "            output=tf.add(b,c,name=\"output\")\n",
    "    #全局更新操作\n",
    "    with tf.name_scope(\"update\"):\n",
    "        #自增\n",
    "        update_total=total_output.assign_add(output)\n",
    "        update_step=global_step.assign_add(1)\n",
    "    #汇总数据\n",
    "    with tf.name_scope(\"summary\"):\n",
    "        avg=tf.div(update_total,tf.cast(update_step,tf.float32),name=\"avg\")\n",
    "        tf.summary.scalar(name=\"avvg_output_over_time\",tensor=avg)\n",
    "        tf.summary.scalar(name=\"sum_output_over_time \",tensor=update_total)\n",
    "        tf.summary.scalar(name=\"output_over_time \" , tensor=output)\n",
    "    with tf.name_scope(\"globals_ops\"):\n",
    "        init=tf.global_variables_initializer()\n",
    "        #将所有汇总数据合并到一个op\n",
    "        merge_summaries=tf.summary.merge_all()\n",
    "\n",
    "\n",
    "\n",
    "sess=tf.Session(graph=graph)\n",
    "#创建一个writer对象，用来保存汇总数据\n",
    "writer=tf.summary.FileWriter(logdir='./chapter3a-gragh',graph=graph)\n",
    "\n",
    "sess.run(init)\n",
    "        \n",
    "def run_gragh(input_tenser):\n",
    "    feed_dict={a:input_tenser}\n",
    "    init_step=0\n",
    "    # ckpt=tf.train.get_checkpoint_state('./')\n",
    "    # if ckpt and ckpt.model_checkpoint_path:\n",
    "    #     save.restore(sess,ckpt.model_checkpoint_path)\n",
    "    #     init_step=int(ckpt.model_checkpoint_path.split('-')[2])\n",
    "    for i in range(init_step,100):\n",
    "        #返回步数，汇总数据，不关心output\n",
    "        _,step,summary=sess.run([output,update_step,merge_summaries],feed_dict=feed_dict)\n",
    "        #将汇总数据添加到writer对象中，step可使tensorboard可随时间对数据进行展示\n",
    "        writer.add_summary(summary,global_step=step)\n",
    "        # save.save(sess,'./tf-model',global_step=i)\n",
    "# save=tf.train.Saver([total_output])\n",
    "\n",
    "run_gragh([1,2,3])\n",
    "#将事件保存到disk\n",
    "writer.flush()\n",
    "writer.close()\n",
    "sess.close()\n"
   ]
  },
  {
   "cell_type": "code",
   "execution_count": 1,
   "metadata": {},
   "outputs": [],
   "source": []
  },
  {
   "cell_type": "code",
   "execution_count": null,
   "metadata": {},
   "outputs": [],
   "source": []
  }
 ],
 "metadata": {
  "kernelspec": {
   "display_name": "Python 2",
   "language": "python",
   "name": "python2"
  },
  "language_info": {
   "codemirror_mode": {
    "name": "ipython",
    "version": 2
   },
   "file_extension": ".py",
   "mimetype": "text/x-python",
   "name": "python",
   "nbconvert_exporter": "python",
   "pygments_lexer": "ipython2",
   "version": "2.7.6"
  }
 },
 "nbformat": 4,
 "nbformat_minor": 0
}
